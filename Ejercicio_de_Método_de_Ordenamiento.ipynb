{
  "nbformat": 4,
  "nbformat_minor": 0,
  "metadata": {
    "colab": {
      "provenance": [],
      "authorship_tag": "ABX9TyMRz1BQczbZDhW32HgQ3lKq",
      "include_colab_link": true
    },
    "kernelspec": {
      "name": "python3",
      "display_name": "Python 3"
    },
    "language_info": {
      "name": "python"
    }
  },
  "cells": [
    {
      "cell_type": "markdown",
      "metadata": {
        "id": "view-in-github",
        "colab_type": "text"
      },
      "source": [
        "<a href=\"https://colab.research.google.com/github/Ailya45/Practica-algoritmo/blob/main/Ejercicio_de_M%C3%A9todo_de_Ordenamiento.ipynb\" target=\"_parent\"><img src=\"https://colab.research.google.com/assets/colab-badge.svg\" alt=\"Open In Colab\"/></a>"
      ]
    },
    {
      "cell_type": "code",
      "execution_count": null,
      "metadata": {
        "id": "h4dsAAlgjP9y"
      },
      "outputs": [],
      "source": [
        "\n",
        "#Problema: Asignación de Medallas en una Competencia Deportiva\n",
        "\n",
        "#Descripción:\n",
        "#En una competencia deportiva hay x participantes, cada uno con una puntuación determinada.\n",
        "#Los organizadores necesitan determinar cuántas medallas de oro, plata y bronce se deben otorgar siguiendo estas reglas:\n",
        "\n",
        "#- Oro: Todos los participantes con rango 1.\n",
        "#- Plata: Todos los participantes con rango 2.\n",
        "#- Bronce: Todos los participantes con rango 3.\n",
        "\n",
        "#El rango se asigna de la siguiente manera:\n",
        "#- Las puntuaciones se ordenan de mayor a menor.\n",
        "#- Si hay participantes con la misma puntuación, comparten el mismo rango. Los siguientes participantes reciben un rango acorde a su posición.\n",
        "  #Ejemplo: Si dos participantes tienen la máxima puntuación, ambos son rango 1, y el siguiente participante será rango 3.\n",
        "\n",
        "#Solución:\n",
        "\n",
        "n = int(input())\n",
        "scores = list(map(int, input().split()))\n",
        "\n",
        "# Ordenar las puntuaciones de mayor a menor\n",
        "sorted_scores = sorted(scores, reverse=True)\n",
        "\n",
        "# Calcular los rangos\n",
        "ranks = []\n",
        "if n >= 1:\n",
        "    ranks.append(1)\n",
        "    for i in range(1, n):\n",
        "        if sorted_scores[i] == sorted_scores[i-1]:\n",
        "            ranks.append(ranks[i-1])\n",
        "        else:\n",
        "            ranks.append(i + 1)\n",
        "\n",
        "# Contar medallas\n",
        "gold = ranks.count(1)\n",
        "silver = ranks.count(2)\n",
        "bronze = ranks.count(3)\n",
        "\n",
        "print(gold, silver, bronze)"
      ]
    }
  ]
}