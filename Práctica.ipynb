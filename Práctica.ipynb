{
  "nbformat": 4,
  "nbformat_minor": 0,
  "metadata": {
    "colab": {
      "provenance": [],
      "authorship_tag": "ABX9TyM+/W21Ca9n7GwYKKOoGm1R",
      "include_colab_link": true
    },
    "kernelspec": {
      "name": "python3",
      "display_name": "Python 3"
    },
    "language_info": {
      "name": "python"
    }
  },
  "cells": [
    {
      "cell_type": "markdown",
      "metadata": {
        "id": "view-in-github",
        "colab_type": "text"
      },
      "source": [
        "<a href=\"https://colab.research.google.com/github/Ailya45/Practica-algoritmo/blob/main/Untitled1.ipynb\" target=\"_parent\"><img src=\"https://colab.research.google.com/assets/colab-badge.svg\" alt=\"Open In Colab\"/></a>"
      ]
    },
    {
      "cell_type": "code",
      "execution_count": null,
      "metadata": {
        "id": "O0yVGxpVaWb2",
        "colab": {
          "base_uri": "https://localhost:8080/"
        },
        "outputId": "fcd30bcf-cf48-41f8-dd65-b1ce605585e0"
      },
      "outputs": [
        {
          "output_type": "stream",
          "name": "stdout",
          "text": [
            "Mounted at /content/drive\n",
            "Archivos en el directorio:\n",
            "Untitled\n",
            "Untitled0.ipynb\n",
            "Untitled1.ipynb\n"
          ]
        }
      ],
      "source": [
        "\n",
        "#miapp.py\n",
        "from google.colab import drive\n",
        "import os\n",
        "\n",
        "\n",
        "drive.mount('/content/drive')\n",
        "\n",
        "directory = '/content/drive/My Drive/Colab Notebooks'\n",
        "\n",
        "def list_files_in_directory(directory):\n",
        "    try:\n",
        "        files = os.listdir(directory)\n",
        "        print(\"Archivos en el directorio:\")\n",
        "        for file in files:\n",
        "            print(file)\n",
        "    except FileNotFoundError:\n",
        "        print(\"Directorio no encontrado.\")\n",
        "\n",
        "list_files_in_directory(directory)"
      ]
    }
  ]
}
